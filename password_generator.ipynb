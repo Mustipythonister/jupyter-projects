{
 "cells": [
  {
   "cell_type": "code",
   "execution_count": 3,
   "id": "ebb9d842",
   "metadata": {},
   "outputs": [],
   "source": [
    "import string\n",
    "from random import *\n",
    "\n",
    "def ganerate():\n",
    "    characters = string.ascii_letters + string.punctuation  + string.digits\n",
    "    password =  \"\".join(choice(characters) for x in range(randint(8, 16)))\n",
    "    print(password)"
   ]
  }
 ],
 "metadata": {
  "kernelspec": {
   "display_name": "Python 3 (ipykernel)",
   "language": "python",
   "name": "python3"
  },
  "language_info": {
   "codemirror_mode": {
    "name": "ipython",
    "version": 3
   },
   "file_extension": ".py",
   "mimetype": "text/x-python",
   "name": "python",
   "nbconvert_exporter": "python",
   "pygments_lexer": "ipython3",
   "version": "3.9.7"
  }
 },
 "nbformat": 4,
 "nbformat_minor": 5
}
